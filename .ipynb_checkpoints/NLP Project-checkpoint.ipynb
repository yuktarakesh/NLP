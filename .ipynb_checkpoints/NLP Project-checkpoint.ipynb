{
 "cells": [
  {
   "cell_type": "code",
   "execution_count": 1,
   "metadata": {},
   "outputs": [],
   "source": [
    "import nltk\n",
    "import random\n",
    "from nltk.classify.scikitlearn import SklearnClassifier\n",
    "import pickle\n",
    "from sklearn.naive_bayes import MultinomialNB, BernoulliNB\n",
    "from sklearn.linear_model import LogisticRegression, SGDClassifier\n",
    "from sklearn.svm import SVC\n",
    "from nltk.classify import ClassifierI\n",
    "from statistics import mode\n",
    "from nltk.tokenize import word_tokenize\n",
    "import re"
   ]
  },
  {
   "cell_type": "code",
   "execution_count": 26,
   "metadata": {
    "scrolled": true
   },
   "outputs": [],
   "source": [
    "from textblob import TextBlob\n",
    "import texttable as tt\n",
    "from time import sleep\n",
    "import pandas as pd\n",
    "import glob\n"
   ]
  },
  {
   "cell_type": "code",
   "execution_count": 27,
   "metadata": {},
   "outputs": [
    {
     "name": "stdout",
     "output_type": "stream",
     "text": [
      "   Unnamed: 0     id                                              title  \\\n",
      "0           0  17283  House Republicans Fret About Winning Their Hea...   \n",
      "1           1  17284  Rift Between Officers and Residents as Killing...   \n",
      "2           2  17285  Tyrus Wong, ‘Bambi’ Artist Thwarted by Racial ...   \n",
      "3           3  17286  Among Deaths in 2016, a Heavy Toll in Pop Musi...   \n",
      "4           4  17287  Kim Jong-un Says North Korea Is Preparing to T...   \n",
      "\n",
      "      publication                         author        date    year  month  \\\n",
      "0  New York Times                     Carl Hulse  2016-12-31  2016.0   12.0   \n",
      "1  New York Times  Benjamin Mueller and Al Baker  2017-06-19  2017.0    6.0   \n",
      "2  New York Times                   Margalit Fox  2017-01-06  2017.0    1.0   \n",
      "3  New York Times               William McDonald  2017-04-10  2017.0    4.0   \n",
      "4  New York Times                  Choe Sang-Hun  2017-01-02  2017.0    1.0   \n",
      "\n",
      "   url                                            content  \n",
      "0  NaN  WASHINGTON  —   Congressional Republicans have...  \n",
      "1  NaN  After the bullet shells get counted, the blood...  \n",
      "2  NaN  When Walt Disney’s “Bambi” opened in 1942, cri...  \n",
      "3  NaN  Death may be the great equalizer, but it isn’t...  \n",
      "4  NaN  SEOUL, South Korea  —   North Korea’s leader, ...  \n"
     ]
    }
   ],
   "source": [
    "path = \"/Users/Ria/Downloads/1974-3493-bundle-archive/\"\n",
    "all_files = glob.glob(path + \"/*.csv\")\n",
    "\n",
    "li = []\n",
    "\n",
    "for filename in all_files:\n",
    "    df = pd.read_csv(filename, index_col=None, header=0)\n",
    "    li.append(df)\n",
    "\n",
    "frame = pd.concat(li, axis=0, ignore_index=True)\n"
   ]
  },
  {
   "cell_type": "code",
   "execution_count": 28,
   "metadata": {},
   "outputs": [
    {
     "name": "stdout",
     "output_type": "stream",
     "text": [
      "['New York Times' 'Breitbart' 'CNN' 'Business Insider' 'Atlantic'\n",
      " 'Guardian' 'NPR' 'Reuters' 'Vox' 'Washington Post' 'Fox News'\n",
      " 'Talking Points Memo' 'Buzzfeed News' 'National Review' 'New York Post']\n"
     ]
    }
   ],
   "source": [
    "print(frame[\"publication\"].unique())"
   ]
  },
  {
   "cell_type": "code",
   "execution_count": 22,
   "metadata": {},
   "outputs": [
    {
     "ename": "SyntaxError",
     "evalue": "unexpected EOF while parsing (<ipython-input-22-581574cafde7>, line 1)",
     "output_type": "error",
     "traceback": [
      "\u001b[0;36m  File \u001b[0;32m\"<ipython-input-22-581574cafde7>\"\u001b[0;36m, line \u001b[0;32m1\u001b[0m\n\u001b[0;31m    def preprocess():\u001b[0m\n\u001b[0m                     ^\u001b[0m\n\u001b[0;31mSyntaxError\u001b[0m\u001b[0;31m:\u001b[0m unexpected EOF while parsing\n"
     ]
    }
   ],
   "source": [
    "def preprocess():\n",
    "    for value in frame[\"Publication\"]: \n",
    "    if value = \n",
    "    \n",
    "       \n",
    "frame[\"Result\"] = result    \n",
    "print(frame) \n",
    "    "
   ]
  },
  {
   "cell_type": "code",
   "execution_count": 20,
   "metadata": {},
   "outputs": [],
   "source": [
    "def analyze():\n",
    "    subjectivity_list = []\n",
    "    polarity_list = []\n",
    "    num = []\n",
    "    number = 1\n",
    "    for index, row in frame.head().iterrows():\n",
    "        analysis = TextBlob(row['content'])\n",
    "        subjectivity = analysis.sentiment.subjectivity\n",
    "        subjectivity_list.append(subjectivity)\n",
    "        polarity = analysis.sentiment.subjectivity\n",
    "        polarity_list.append(polarity)\n",
    "        number = number + 1\n",
    "        num.append(number)\n",
    "        sleep(5)\n",
    "        \n",
    "    tab = tt.Texttable()\n",
    "    headings = ['Number','Subjectivity', 'Polarity']\n",
    "    tab.header(headings)\n",
    "    \n",
    "    for row in zip(num, subjectivity_list, polarity_list):\n",
    "        tab.add_row(row)\n",
    "\n",
    "    avg_subjectivity = (sum(subjectivity_list) / len(subjectivity_list))\n",
    "    avg_polarity = (sum(polarity_list) / len(polarity_list))\n",
    "\n",
    "    table = tab.draw()\n",
    "    print(table)\n",
    "    print(\"average subjectivity: \" + str(avg_subjectivity))\n",
    "    print(\"average polarity: \" + str(avg_polarity))"
   ]
  },
  {
   "cell_type": "code",
   "execution_count": 21,
   "metadata": {
    "scrolled": true
   },
   "outputs": [
    {
     "name": "stdout",
     "output_type": "stream",
     "text": [
      "+--------+--------------+----------+\n",
      "| Number | Subjectivity | Polarity |\n",
      "+========+==============+==========+\n",
      "| 2      | 0.456        | 0.456    |\n",
      "+--------+--------------+----------+\n",
      "| 3      | 0.392        | 0.392    |\n",
      "+--------+--------------+----------+\n",
      "| 4      | 0.436        | 0.436    |\n",
      "+--------+--------------+----------+\n",
      "| 5      | 0.436        | 0.436    |\n",
      "+--------+--------------+----------+\n",
      "| 6      | 0.519        | 0.519    |\n",
      "+--------+--------------+----------+\n",
      "average subjectivity: 0.4476923658586404\n",
      "average polarity: 0.4476923658586404\n"
     ]
    }
   ],
   "source": [
    "analyze()"
   ]
  },
  {
   "cell_type": "code",
   "execution_count": null,
   "metadata": {},
   "outputs": [],
   "source": []
  }
 ],
 "metadata": {
  "kernelspec": {
   "display_name": "env",
   "language": "python",
   "name": "env"
  },
  "language_info": {
   "codemirror_mode": {
    "name": "ipython",
    "version": 3
   },
   "file_extension": ".py",
   "mimetype": "text/x-python",
   "name": "python",
   "nbconvert_exporter": "python",
   "pygments_lexer": "ipython3",
   "version": "3.8.3"
  }
 },
 "nbformat": 4,
 "nbformat_minor": 2
}
